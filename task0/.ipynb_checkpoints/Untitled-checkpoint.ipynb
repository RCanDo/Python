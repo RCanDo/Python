{
 "cells": [
  {
   "cell_type": "markdown",
   "metadata": {},
   "source": [
    "## Task 1"
   ]
  },
  {
   "cell_type": "code",
   "execution_count": 3,
   "metadata": {},
   "outputs": [
    {
     "data": {
      "text/html": [
       "<div>\n",
       "<style scoped>\n",
       "    .dataframe tbody tr th:only-of-type {\n",
       "        vertical-align: middle;\n",
       "    }\n",
       "\n",
       "    .dataframe tbody tr th {\n",
       "        vertical-align: top;\n",
       "    }\n",
       "\n",
       "    .dataframe thead th {\n",
       "        text-align: right;\n",
       "    }\n",
       "</style>\n",
       "<table border=\"1\" class=\"dataframe\">\n",
       "  <thead>\n",
       "    <tr style=\"text-align: right;\">\n",
       "      <th></th>\n",
       "      <th>group</th>\n",
       "      <th>f0</th>\n",
       "      <th>f1</th>\n",
       "      <th>f2</th>\n",
       "      <th>f3</th>\n",
       "      <th>f4</th>\n",
       "      <th>f5</th>\n",
       "      <th>f6</th>\n",
       "      <th>f7</th>\n",
       "      <th>f8</th>\n",
       "      <th>...</th>\n",
       "      <th>f37</th>\n",
       "      <th>f38</th>\n",
       "      <th>f39</th>\n",
       "      <th>f40</th>\n",
       "      <th>f41</th>\n",
       "      <th>f42</th>\n",
       "      <th>f43</th>\n",
       "      <th>f44</th>\n",
       "      <th>f45</th>\n",
       "      <th>f46</th>\n",
       "    </tr>\n",
       "  </thead>\n",
       "  <tbody>\n",
       "    <tr>\n",
       "      <th>0</th>\n",
       "      <td>B</td>\n",
       "      <td>AA</td>\n",
       "      <td>R</td>\n",
       "      <td>1.344034</td>\n",
       "      <td>631.337666</td>\n",
       "      <td>NaN</td>\n",
       "      <td>NaN</td>\n",
       "      <td>NaN</td>\n",
       "      <td>NaN</td>\n",
       "      <td>NaN</td>\n",
       "      <td>...</td>\n",
       "      <td>NaN</td>\n",
       "      <td>NaN</td>\n",
       "      <td>NaN</td>\n",
       "      <td>NaN</td>\n",
       "      <td>NaN</td>\n",
       "      <td>NaN</td>\n",
       "      <td>NaN</td>\n",
       "      <td>NaN</td>\n",
       "      <td>NaN</td>\n",
       "      <td>NaN</td>\n",
       "    </tr>\n",
       "    <tr>\n",
       "      <th>1</th>\n",
       "      <td>A</td>\n",
       "      <td>AA</td>\n",
       "      <td>R</td>\n",
       "      <td>2.397800</td>\n",
       "      <td>11846.932969</td>\n",
       "      <td>1716.0</td>\n",
       "      <td>NaN</td>\n",
       "      <td>NaN</td>\n",
       "      <td>NaN</td>\n",
       "      <td>NaN</td>\n",
       "      <td>...</td>\n",
       "      <td>NaN</td>\n",
       "      <td>NaN</td>\n",
       "      <td>NaN</td>\n",
       "      <td>NaN</td>\n",
       "      <td>NaN</td>\n",
       "      <td>NaN</td>\n",
       "      <td>NaN</td>\n",
       "      <td>NaN</td>\n",
       "      <td>NaN</td>\n",
       "      <td>NaN</td>\n",
       "    </tr>\n",
       "    <tr>\n",
       "      <th>2</th>\n",
       "      <td>B</td>\n",
       "      <td>AA</td>\n",
       "      <td>R</td>\n",
       "      <td>20.381491</td>\n",
       "      <td>3.817035</td>\n",
       "      <td>NaN</td>\n",
       "      <td>NaN</td>\n",
       "      <td>NaN</td>\n",
       "      <td>NaN</td>\n",
       "      <td>NaN</td>\n",
       "      <td>...</td>\n",
       "      <td>NaN</td>\n",
       "      <td>NaN</td>\n",
       "      <td>NaN</td>\n",
       "      <td>NaN</td>\n",
       "      <td>NaN</td>\n",
       "      <td>NaN</td>\n",
       "      <td>NaN</td>\n",
       "      <td>NaN</td>\n",
       "      <td>NaN</td>\n",
       "      <td>6.0</td>\n",
       "    </tr>\n",
       "    <tr>\n",
       "      <th>3</th>\n",
       "      <td>B</td>\n",
       "      <td>AA</td>\n",
       "      <td>R</td>\n",
       "      <td>5.687507</td>\n",
       "      <td>9529.610739</td>\n",
       "      <td>NaN</td>\n",
       "      <td>NaN</td>\n",
       "      <td>NaN</td>\n",
       "      <td>NaN</td>\n",
       "      <td>NaN</td>\n",
       "      <td>...</td>\n",
       "      <td>NaN</td>\n",
       "      <td>NaN</td>\n",
       "      <td>NaN</td>\n",
       "      <td>NaN</td>\n",
       "      <td>NaN</td>\n",
       "      <td>NaN</td>\n",
       "      <td>NaN</td>\n",
       "      <td>NaN</td>\n",
       "      <td>NaN</td>\n",
       "      <td>NaN</td>\n",
       "    </tr>\n",
       "    <tr>\n",
       "      <th>4</th>\n",
       "      <td>B</td>\n",
       "      <td>AA</td>\n",
       "      <td>R</td>\n",
       "      <td>4.567899</td>\n",
       "      <td>6.488960</td>\n",
       "      <td>NaN</td>\n",
       "      <td>NaN</td>\n",
       "      <td>NaN</td>\n",
       "      <td>NaN</td>\n",
       "      <td>NaN</td>\n",
       "      <td>...</td>\n",
       "      <td>NaN</td>\n",
       "      <td>NaN</td>\n",
       "      <td>NaN</td>\n",
       "      <td>NaN</td>\n",
       "      <td>NaN</td>\n",
       "      <td>NaN</td>\n",
       "      <td>NaN</td>\n",
       "      <td>NaN</td>\n",
       "      <td>NaN</td>\n",
       "      <td>NaN</td>\n",
       "    </tr>\n",
       "  </tbody>\n",
       "</table>\n",
       "<p>5 rows × 48 columns</p>\n",
       "</div>"
      ],
      "text/plain": [
       "  group  f0 f1         f2            f3      f4  f5  f6  f7  f8  ...  f37  \\\n",
       "0     B  AA  R   1.344034    631.337666     NaN NaN NaN NaN NaN  ...  NaN   \n",
       "1     A  AA  R   2.397800  11846.932969  1716.0 NaN NaN NaN NaN  ...  NaN   \n",
       "2     B  AA  R  20.381491      3.817035     NaN NaN NaN NaN NaN  ...  NaN   \n",
       "3     B  AA  R   5.687507   9529.610739     NaN NaN NaN NaN NaN  ...  NaN   \n",
       "4     B  AA  R   4.567899      6.488960     NaN NaN NaN NaN NaN  ...  NaN   \n",
       "\n",
       "   f38  f39  f40  f41  f42  f43  f44  f45  f46  \n",
       "0  NaN  NaN  NaN  NaN  NaN  NaN  NaN  NaN  NaN  \n",
       "1  NaN  NaN  NaN  NaN  NaN  NaN  NaN  NaN  NaN  \n",
       "2  NaN  NaN  NaN  NaN  NaN  NaN  NaN  NaN  6.0  \n",
       "3  NaN  NaN  NaN  NaN  NaN  NaN  NaN  NaN  NaN  \n",
       "4  NaN  NaN  NaN  NaN  NaN  NaN  NaN  NaN  NaN  \n",
       "\n",
       "[5 rows x 48 columns]"
      ]
     },
     "execution_count": 3,
     "metadata": {},
     "output_type": "execute_result"
    }
   ],
   "source": [
    "import numpy as np\n",
    "import pandas as pd\n",
    "import matplotlib.pyplot as plt\n",
    "RANDSTATE = 11\n",
    "data = pd.read_csv(\"recruitment_task.csv\")\n",
    "data.head()"
   ]
  },
  {
   "cell_type": "code",
   "execution_count": 4,
   "metadata": {},
   "outputs": [
    {
     "data": {
      "text/plain": [
       "(150000, 48)"
      ]
     },
     "execution_count": 4,
     "metadata": {},
     "output_type": "execute_result"
    }
   ],
   "source": [
    "data.shape"
   ]
  },
  {
   "cell_type": "code",
   "execution_count": 5,
   "metadata": {},
   "outputs": [
    {
     "name": "stdout",
     "output_type": "stream",
     "text": [
      "<class 'pandas.core.frame.DataFrame'>\n",
      "RangeIndex: 150000 entries, 0 to 149999\n",
      "Data columns (total 48 columns):\n",
      " #   Column  Non-Null Count   Dtype  \n",
      "---  ------  --------------   -----  \n",
      " 0   group   150000 non-null  object \n",
      " 1   f0      150000 non-null  object \n",
      " 2   f1      149904 non-null  object \n",
      " 3   f2      150000 non-null  float64\n",
      " 4   f3      150000 non-null  float64\n",
      " 5   f4      14958 non-null   float64\n",
      " 6   f5      4088 non-null    float64\n",
      " 7   f6      73 non-null      float64\n",
      " 8   f7      983 non-null     float64\n",
      " 9   f8      391 non-null     float64\n",
      " 10  f9      272 non-null     float64\n",
      " 11  f10     1630 non-null    float64\n",
      " 12  f11     3815 non-null    float64\n",
      " 13  f12     2449 non-null    float64\n",
      " 14  f13     946 non-null     float64\n",
      " 15  f14     6145 non-null    float64\n",
      " 16  f15     5564 non-null    float64\n",
      " 17  f16     251 non-null     float64\n",
      " 18  f17     5107 non-null    float64\n",
      " 19  f18     1565 non-null    float64\n",
      " 20  f19     1720 non-null    float64\n",
      " 21  f20     115 non-null     float64\n",
      " 22  f21     5942 non-null    float64\n",
      " 23  f22     762 non-null     float64\n",
      " 24  f23     1291 non-null    float64\n",
      " 25  f24     1624 non-null    float64\n",
      " 26  f25     2299 non-null    float64\n",
      " 27  f26     6402 non-null    float64\n",
      " 28  f27     12320 non-null   float64\n",
      " 29  f28     81 non-null      float64\n",
      " 30  f29     875 non-null     float64\n",
      " 31  f30     54 non-null      float64\n",
      " 32  f31     32 non-null      float64\n",
      " 33  f32     763 non-null     float64\n",
      " 34  f33     6372 non-null    float64\n",
      " 35  f34     6217 non-null    float64\n",
      " 36  f35     8404 non-null    float64\n",
      " 37  f36     18148 non-null   float64\n",
      " 38  f37     996 non-null     float64\n",
      " 39  f38     8551 non-null    float64\n",
      " 40  f39     4107 non-null    float64\n",
      " 41  f40     2729 non-null    float64\n",
      " 42  f41     809 non-null     float64\n",
      " 43  f42     1003 non-null    float64\n",
      " 44  f43     4196 non-null    float64\n",
      " 45  f44     1138 non-null    float64\n",
      " 46  f45     233 non-null     float64\n",
      " 47  f46     5202 non-null    float64\n",
      "dtypes: float64(45), object(3)\n",
      "memory usage: 54.9+ MB\n"
     ]
    }
   ],
   "source": [
    "data.info()"
   ]
  },
  {
   "cell_type": "markdown",
   "metadata": {},
   "source": [
    "Only first five columns are not 'sparse' ('sparse' in the meaning of having majority of NULLs)."
   ]
  },
  {
   "cell_type": "markdown",
   "metadata": {},
   "source": [
    "Let's divide variables into groups."
   ]
  },
  {
   "cell_type": "code",
   "execution_count": 9,
   "metadata": {},
   "outputs": [],
   "source": [
    "target_var = \"group\""
   ]
  },
  {
   "cell_type": "markdown",
   "metadata": {},
   "source": [
    "Now we need to distinct between \"dense\" and \"sparse\" variables. \\\n",
    "It's easy here to set the 'sparsity' threshold."
   ]
  },
  {
   "cell_type": "code",
   "execution_count": 14,
   "metadata": {},
   "outputs": [
    {
     "name": "stdout",
     "output_type": "stream",
     "text": [
      "dense variables:\n",
      "f0     object\n",
      "f1     object\n",
      "f2    float64\n",
      "f3    float64\n",
      "dtype: object\n",
      "\n",
      "sparse variables:\n",
      "f4     float64\n",
      "f5     float64\n",
      "f6     float64\n",
      "f7     float64\n",
      "f8     float64\n",
      "f9     float64\n",
      "f10    float64\n",
      "f11    float64\n",
      "f12    float64\n",
      "f13    float64\n",
      "f14    float64\n",
      "f15    float64\n",
      "f16    float64\n",
      "f17    float64\n",
      "f18    float64\n",
      "f19    float64\n",
      "f20    float64\n",
      "f21    float64\n",
      "f22    float64\n",
      "f23    float64\n",
      "f24    float64\n",
      "f25    float64\n",
      "f26    float64\n",
      "f27    float64\n",
      "f28    float64\n",
      "f29    float64\n",
      "f30    float64\n",
      "f31    float64\n",
      "f32    float64\n",
      "f33    float64\n",
      "f34    float64\n",
      "f35    float64\n",
      "f36    float64\n",
      "f37    float64\n",
      "f38    float64\n",
      "f39    float64\n",
      "f40    float64\n",
      "f41    float64\n",
      "f42    float64\n",
      "f43    float64\n",
      "f44    float64\n",
      "f45    float64\n",
      "f46    float64\n",
      "dtype: object\n"
     ]
    }
   ],
   "source": [
    "def variables_sparsity(df, threshold=.5):\n",
    "    sparse_vars = df.apply(lambda col: col.isnull().sum() > df.shape[0] * threshold)\n",
    "    sparse_vars = sparse_vars.index[sparse_vars].tolist()\n",
    "    dense_vars = df.columns.difference(sparse_vars).tolist()\n",
    "    return dense_vars, sparse_vars\n",
    "\n",
    "dense_vars, sparse_vars = variables_sparsity(data.drop(target_var, axis=1))\n",
    "print(\"dense variables:\")\n",
    "print(data.dtypes[dense_vars])\n",
    "print()\n",
    "print(\"sparse variables:\")\n",
    "print(data.dtypes[sparse_vars])"
   ]
  },
  {
   "cell_type": "markdown",
   "metadata": {},
   "source": [
    "### dense variables"
   ]
  },
  {
   "cell_type": "code",
   "execution_count": 15,
   "metadata": {},
   "outputs": [
    {
     "data": {
      "text/plain": [
       "f0    150000\n",
       "f1    149904\n",
       "f2    150000\n",
       "f3    150000\n",
       "dtype: int64"
      ]
     },
     "execution_count": 15,
     "metadata": {},
     "output_type": "execute_result"
    }
   ],
   "source": [
    "data[dense_vars].count()"
   ]
  },
  {
   "cell_type": "code",
   "execution_count": 18,
   "metadata": {},
   "outputs": [
    {
     "data": {
      "text/plain": [
       "array(['R', 'S', 'T', 'V', 'W', 'X', 'Y', 'Z', 'NA'], dtype=object)"
      ]
     },
     "execution_count": 18,
     "metadata": {},
     "output_type": "execute_result"
    }
   ],
   "source": [
    "data.f1.unique()"
   ]
  },
  {
   "cell_type": "code",
   "execution_count": 16,
   "metadata": {},
   "outputs": [
    {
     "name": "stdout",
     "output_type": "stream",
     "text": [
      " group :\n",
      "B    125428\n",
      "A     24572\n",
      "Name: group, dtype: int64\n",
      " f0 :\n",
      "AB    58130\n",
      "AD    44018\n",
      "AE    26105\n",
      "AC    11617\n",
      "AA    10130\n",
      "Name: f0, dtype: int64\n",
      " f1 :\n",
      "R     50183\n",
      "S     33713\n",
      "V     23177\n",
      "T     19261\n",
      "W     16428\n",
      "X      5125\n",
      "Y      1919\n",
      "Z        98\n",
      "NA       96\n",
      "Name: f1, dtype: int64\n"
     ]
    }
   ],
   "source": [
    "from sklearn.impute import SimpleImputer\n",
    "data[dense_vars] = SimpleImputer(strategy=\"constant\", fill_value=\"NA\") \\\n",
    "    .fit_transform(data[dense_vars])\n",
    "\n",
    "for n, c in data.iloc[:,0:3].iteritems():\n",
    "    print(\" {:s} :\".format(n))\n",
    "    print(c.value_counts())"
   ]
  },
  {
   "cell_type": "markdown",
   "metadata": {},
   "source": [
    "### sparse variables"
   ]
  },
  {
   "cell_type": "code",
   "execution_count": 19,
   "metadata": {},
   "outputs": [
    {
     "data": {
      "text/html": [
       "<div>\n",
       "<style scoped>\n",
       "    .dataframe tbody tr th:only-of-type {\n",
       "        vertical-align: middle;\n",
       "    }\n",
       "\n",
       "    .dataframe tbody tr th {\n",
       "        vertical-align: top;\n",
       "    }\n",
       "\n",
       "    .dataframe thead th {\n",
       "        text-align: right;\n",
       "    }\n",
       "</style>\n",
       "<table border=\"1\" class=\"dataframe\">\n",
       "  <thead>\n",
       "    <tr style=\"text-align: right;\">\n",
       "      <th></th>\n",
       "      <th>count</th>\n",
       "      <th>ratio</th>\n",
       "    </tr>\n",
       "  </thead>\n",
       "  <tbody>\n",
       "    <tr>\n",
       "      <th>1</th>\n",
       "      <td>149398</td>\n",
       "      <td>0.995987</td>\n",
       "    </tr>\n",
       "    <tr>\n",
       "      <th>2</th>\n",
       "      <td>582</td>\n",
       "      <td>0.003880</td>\n",
       "    </tr>\n",
       "    <tr>\n",
       "      <th>3</th>\n",
       "      <td>20</td>\n",
       "      <td>0.000133</td>\n",
       "    </tr>\n",
       "  </tbody>\n",
       "</table>\n",
       "</div>"
      ],
      "text/plain": [
       "    count     ratio\n",
       "1  149398  0.995987\n",
       "2     582  0.003880\n",
       "3      20  0.000133"
      ]
     },
     "execution_count": 19,
     "metadata": {},
     "output_type": "execute_result"
    }
   ],
   "source": [
    "sdata = data[sparse_vars]\n",
    "\n",
    "def no_nulls_in_row_distribution(df):\n",
    "    df_rsum = df.notna().sum(axis=1)\n",
    "    return pd.DataFrame(\n",
    "                { \"count\": df_rsum.value_counts(),\n",
    "                  \"ratio\": df_rsum.value_counts()/df.shape[0]\n",
    "                }\n",
    "            )\n",
    "\n",
    "no_nulls_in_row_distribution(sdata)"
   ]
  },
  {
   "cell_type": "markdown",
   "metadata": {},
   "source": [
    "It shows that less then .5% of records has more then 1 non-empty field for \"sparse variables\".\\\n",
    "Thus ...\n",
    "\n",
    "Let's summarise the distribution of (non-null) values for \"sparse variables\": "
   ]
  },
  {
   "cell_type": "code",
   "execution_count": 22,
   "metadata": {},
   "outputs": [
    {
     "name": "stdout",
     "output_type": "stream",
     "text": [
      "Nr of negative values: 0\n",
      "Nr of zero values: 0\n",
      "Nr of positive values: 150622\n"
     ]
    }
   ],
   "source": [
    "print(\"Nr of negative values: {:d}\".format((sdata < 0).sum(axis=0).sum()))     # 0\n",
    "print(\"Nr of zero values: {:d}\".format((sdata == 0).sum(axis=0).sum()))    # 0\n",
    "print(\"Nr of positive values: {:d}\".format((sdata > 0).sum(axis=0).sum()))  "
   ]
  },
  {
   "cell_type": "code",
   "execution_count": null,
   "metadata": {},
   "outputs": [],
   "source": []
  }
 ],
 "metadata": {
  "kernelspec": {
   "display_name": "Python 3",
   "language": "python",
   "name": "python3"
  },
  "language_info": {
   "codemirror_mode": {
    "name": "ipython",
    "version": 3
   },
   "file_extension": ".py",
   "mimetype": "text/x-python",
   "name": "python",
   "nbconvert_exporter": "python",
   "pygments_lexer": "ipython3",
   "version": "3.7.7"
  }
 },
 "nbformat": 4,
 "nbformat_minor": 4
}
