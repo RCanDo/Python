{
 "cells": [
  {
   "cell_type": "code",
   "execution_count": 1,
   "metadata": {},
   "outputs": [
    {
     "data": {
      "text/html": [
       "3.14159265358979"
      ],
      "text/latex": [
       "3.14159265358979"
      ],
      "text/markdown": [
       "3.14159265358979"
      ],
      "text/plain": [
       "[1] 3.141593"
      ]
     },
     "metadata": {},
     "output_type": "display_data"
    }
   ],
   "source": [
    "pi"
   ]
  },
  {
   "cell_type": "code",
   "execution_count": 6,
   "metadata": {},
   "outputs": [
    {
     "ename": "ERROR",
     "evalue": "Error in format.default(): brakuje argumentu 'x', a nie ma określonej wartości domyślnej\n",
     "output_type": "error",
     "traceback": [
      "Error in format.default(): brakuje argumentu 'x', a nie ma określonej wartości domyślnej\nTraceback:\n",
      "1. format()",
      "2. format.default()"
     ]
    }
   ],
   "source": [
    "format()"
   ]
  },
  {
   "cell_type": "code",
   "execution_count": 9,
   "metadata": {},
   "outputs": [
    {
     "ename": "ERROR",
     "evalue": "Error in prettyNum(.Internal(format(x, trim, digits, nsmall, width, 3L, : niepoprawny argument 'digits'\n",
     "output_type": "error",
     "traceback": [
      "Error in prettyNum(.Internal(format(x, trim, digits, nsmall, width, 3L, : niepoprawny argument 'digits'\nTraceback:\n",
      "1. format(pi, digits = 30)",
      "2. format.default(pi, digits = 30)",
      "3. prettyNum(.Internal(format(x, trim, digits, nsmall, width, 3L, \n .     na.encode, scientific, decimal.mark)), big.mark = big.mark, \n .     big.interval = big.interval, small.mark = small.mark, small.interval = small.interval, \n .     decimal.mark = decimal.mark, input.d.mark = decimal.mark, \n .     zero.print = zero.print, drop0trailing = drop0trailing, is.cmplx = is.complex(x), \n .     preserve.width = if (trim) \"individual\" else \"common\")"
     ]
    }
   ],
   "source": [
    "format(pi,digits=30)"
   ]
  },
  {
   "cell_type": "code",
   "execution_count": 10,
   "metadata": {},
   "outputs": [
    {
     "data": {
      "text/html": [
       "'3.141593'"
      ],
      "text/latex": [
       "'3.141593'"
      ],
      "text/markdown": [
       "'3.141593'"
      ],
      "text/plain": [
       "[1] \"3.141593\""
      ]
     },
     "metadata": {},
     "output_type": "display_data"
    }
   ],
   "source": [
    "format(pi)"
   ]
  },
  {
   "cell_type": "code",
   "execution_count": 11,
   "metadata": {
    "collapsed": true
   },
   "outputs": [],
   "source": [
    "?format"
   ]
  },
  {
   "cell_type": "code",
   "execution_count": null,
   "metadata": {
    "collapsed": true
   },
   "outputs": [],
   "source": []
  }
 ],
 "metadata": {
  "kernelspec": {
   "display_name": "R",
   "language": "R",
   "name": "ir"
  },
  "language_info": {
   "codemirror_mode": "r",
   "file_extension": ".r",
   "mimetype": "text/x-r-source",
   "name": "R",
   "pygments_lexer": "r",
   "version": "3.4.2"
  }
 },
 "nbformat": 4,
 "nbformat_minor": 2
}
